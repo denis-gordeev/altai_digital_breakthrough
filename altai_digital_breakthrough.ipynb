{
  "cells": [
    {
      "cell_type": "code",
      "execution_count": null,
      "metadata": {
        "id": "BZnCdHW6CIRT"
      },
      "outputs": [],
      "source": [
        "cp drive/MyDrive/digital_breakthrough_altai_time.zip ./"
      ]
    },
    {
      "cell_type": "code",
      "execution_count": null,
      "metadata": {
        "colab": {
          "base_uri": "https://localhost:8080/"
        },
        "id": "E42KxeCxDUIV",
        "outputId": "6a705405-611d-4119-8a93-e26a48a2f7b5"
      },
      "outputs": [
        {
          "name": "stdout",
          "output_type": "stream",
          "text": [
            "Archive:  digital_breakthrough_altai_time.zip\n",
            " extracting: digital_breakthrough_altai_time/AltGU.zip  \n",
            " extracting: digital_breakthrough_altai_time/test_dataset_test.zip  \n",
            " extracting: digital_breakthrough_altai_time/train_dataset_train.zip  \n",
            "Archive:  digital_breakthrough_altai_time/AltGU.zip\n",
            "  inflating: employees.csv           \n",
            "  inflating: sample_solution.csv     \n",
            "  inflating: АлтГУ. Всерос.pdf  \n",
            "  inflating: АлтГУ_baseline.ipynb  \n",
            "Archive:  digital_breakthrough_altai_time/test_dataset_test.zip\n",
            "  inflating: test_comments.csv       \n",
            "  inflating: test_issues.csv         \n",
            "Archive:  digital_breakthrough_altai_time/train_dataset_train.zip\n",
            "  inflating: train_issues.csv        \n",
            "  inflating: train_comments.csv      \n"
          ]
        }
      ],
      "source": [
        "!unzip digital_breakthrough_altai_time.zip\n",
        "!unzip digital_breakthrough_altai_time/AltGU.zip\n",
        "!unzip digital_breakthrough_altai_time/test_dataset_test.zip\n",
        "!unzip digital_breakthrough_altai_time/train_dataset_train.zip"
      ]
    },
    {
      "cell_type": "code",
      "execution_count": null,
      "metadata": {
        "colab": {
          "base_uri": "https://localhost:8080/"
        },
        "id": "BbSWX4txTDiO",
        "outputId": "1c56220b-20f9-4ffa-8b09-845109d539aa"
      },
      "outputs": [
        {
          "name": "stdout",
          "output_type": "stream",
          "text": [
            "Looking in indexes: https://pypi.org/simple, https://us-python.pkg.dev/colab-wheels/public/simple/\n",
            "Collecting catboost\n",
            "  Downloading catboost-1.1-cp37-none-manylinux1_x86_64.whl (76.8 MB)\n",
            "\u001b[K     |████████████████████████████████| 76.8 MB 13 kB/s \n",
            "\u001b[?25hRequirement already satisfied: plotly in /usr/local/lib/python3.7/dist-packages (from catboost) (5.5.0)\n",
            "Requirement already satisfied: scipy in /usr/local/lib/python3.7/dist-packages (from catboost) (1.7.3)\n",
            "Requirement already satisfied: matplotlib in /usr/local/lib/python3.7/dist-packages (from catboost) (3.2.2)\n",
            "Requirement already satisfied: graphviz in /usr/local/lib/python3.7/dist-packages (from catboost) (0.10.1)\n",
            "Requirement already satisfied: pandas>=0.24.0 in /usr/local/lib/python3.7/dist-packages (from catboost) (1.3.5)\n",
            "Requirement already satisfied: numpy>=1.16.0 in /usr/local/lib/python3.7/dist-packages (from catboost) (1.21.6)\n",
            "Requirement already satisfied: six in /usr/local/lib/python3.7/dist-packages (from catboost) (1.15.0)\n",
            "Requirement already satisfied: python-dateutil>=2.7.3 in /usr/local/lib/python3.7/dist-packages (from pandas>=0.24.0->catboost) (2.8.2)\n",
            "Requirement already satisfied: pytz>=2017.3 in /usr/local/lib/python3.7/dist-packages (from pandas>=0.24.0->catboost) (2022.2.1)\n",
            "Requirement already satisfied: pyparsing!=2.0.4,!=2.1.2,!=2.1.6,>=2.0.1 in /usr/local/lib/python3.7/dist-packages (from matplotlib->catboost) (3.0.9)\n",
            "Requirement already satisfied: kiwisolver>=1.0.1 in /usr/local/lib/python3.7/dist-packages (from matplotlib->catboost) (1.4.4)\n",
            "Requirement already satisfied: cycler>=0.10 in /usr/local/lib/python3.7/dist-packages (from matplotlib->catboost) (0.11.0)\n",
            "Requirement already satisfied: typing-extensions in /usr/local/lib/python3.7/dist-packages (from kiwisolver>=1.0.1->matplotlib->catboost) (4.1.1)\n",
            "Requirement already satisfied: tenacity>=6.2.0 in /usr/local/lib/python3.7/dist-packages (from plotly->catboost) (8.0.1)\n",
            "Installing collected packages: catboost\n",
            "Successfully installed catboost-1.1\n"
          ]
        }
      ],
      "source": [
        "!pip install catboost"
      ]
    },
    {
      "cell_type": "code",
      "execution_count": null,
      "metadata": {
        "id": "iKz82qB7EMBw"
      },
      "outputs": [],
      "source": [
        "import catboost\n",
        "from catboost import Pool, cv\n",
        "import numpy as np\n",
        "import pandas as pd\n",
        "from sklearn.metrics import r2_score\n",
        "from sklearn.model_selection import train_test_split"
      ]
    },
    {
      "cell_type": "code",
      "execution_count": null,
      "metadata": {
        "id": "zd7-vlk1DjN6"
      },
      "outputs": [],
      "source": [
        "train_comments = pd.read_csv(\"train_comments.csv\")\n",
        "train_issues = pd.read_csv(\"train_issues.csv\")\n",
        "employees = pd.read_csv(\"employees.csv\")\n",
        "\n",
        "test_comments = pd.read_csv(\"test_comments.csv\")\n",
        "test_issues = pd.read_csv(\"test_issues.csv\")"
      ]
    },
    {
      "cell_type": "code",
      "execution_count": null,
      "metadata": {
        "id": "pWazZghcEaq6"
      },
      "outputs": [],
      "source": [
        "# train_comments.head()"
      ]
    },
    {
      "cell_type": "code",
      "execution_count": null,
      "metadata": {
        "id": "0c7J3JcQEdFg"
      },
      "outputs": [],
      "source": [
        "# train_issues.head()"
      ]
    },
    {
      "cell_type": "code",
      "execution_count": null,
      "metadata": {
        "id": "xbIjdwesEftS"
      },
      "outputs": [],
      "source": [
        "# employees.head()"
      ]
    },
    {
      "cell_type": "code",
      "execution_count": null,
      "metadata": {
        "id": "izoEpZQbMSBf"
      },
      "outputs": [],
      "source": [
        "# test_comments.head()"
      ]
    },
    {
      "cell_type": "code",
      "execution_count": null,
      "metadata": {
        "id": "y5qnOG2UMT-O"
      },
      "outputs": [],
      "source": [
        "# test_issues.head()"
      ]
    },
    {
      "cell_type": "code",
      "execution_count": null,
      "metadata": {
        "id": "ZfawrKbqMflX"
      },
      "outputs": [],
      "source": [
        "# for column in (\"assignee_id\", \"project_id\", \"creator_id\"):\n",
        "#     diff_values = set(test_issues[column].unique()).difference(set(train_issues[column].unique()))\n",
        "#     print(column)\n",
        "#     print(test_issues[test_issues[column].apply(lambda x: x in diff_values)])\n",
        "#     print(\"-\" * 80, \"\\n\\n\")"
      ]
    },
    {
      "cell_type": "code",
      "execution_count": null,
      "metadata": {
        "id": "6I-VXcQLO-NU"
      },
      "outputs": [],
      "source": [
        "# TODO добавить праздник ли\n",
        "# убрать id\n",
        "# попробовать просто без кросс-валидации, а трейн и валидацию"
      ]
    },
    {
      "cell_type": "code",
      "execution_count": null,
      "metadata": {
        "id": "-KC4PzNa5J9e"
      },
      "outputs": [],
      "source": [
        "def process_df(df, comment_df=None):\n",
        "    df[\"created\"] = df[\"created\"].astype(\"datetime64\")\n",
        "    df[\"year\"] = df[\"created\"].apply(lambda x: x.year)\n",
        "    df[\"month\"] = df[\"created\"].apply(lambda x: x.month)\n",
        "    df[\"day\"] = df[\"created\"].apply(lambda x: x.day)\n",
        "    df[\"hour\"] = df[\"created\"].apply(lambda x: x.hour)\n",
        "    df[\"dayofweek\"] = df[\"created\"].apply(lambda x: x.dayofweek)\n",
        "    df[\"minute\"] = df[\"created\"].apply(lambda x: x.minute)\n",
        "    # df[\"created\"] = pd.to_datetime(df[\"created\"])\n",
        "    df[\"key_first_part\"] = df[\"key\"].str.split(\"-\").str[0]\n",
        "    df[\"key_second_part\"] = df[\"key\"].str.split(\"-\").str[1].astype(int)\n",
        "    if comment_df is not None:\n",
        "        comment_count_dict = comment_df[\"issue_id\"].value_counts().to_dict()\n",
        "        df[\"comment_count\"] = df[\"id\"].apply(\n",
        "            lambda x: 0 if x not in comment_count_dict else comment_count_dict[x])\n",
        "    df = df.merge(\n",
        "        employees, how=\"left\", left_on=\"assignee_id\", right_on=\"id\", suffixes=[\"\", \"_assignee\"])\n",
        "    df = df.merge(\n",
        "        employees, how=\"left\", left_on=\"creator_id\", right_on=\"id\", suffixes=[\"\", \"_creator\"])\n",
        "    df = df.fillna(-1)\n",
        "    for col in(\"position\", \"position_creator\"):\n",
        "        df[col] = df[col].replace(-1, \"\")\n",
        "    drop_cols = [\"id\", \"key\", \"created\"]\n",
        "    drop_cols += [\"id_assignee\", \"full_name\", \"id_creator\", \"full_name_creator\"]\n",
        "    df = df.drop(drop_cols, axis=1)\n",
        "    return df\n",
        "\n",
        "def predict(dataset, labels=None):\n",
        "    preds = []\n",
        "    for model in models:\n",
        "        pred = model.predict(dataset)\n",
        "        preds.append(pred)\n",
        "    mean_preds = np.array(preds).mean(axis=0)\n",
        "    if labels is not None:\n",
        "        score = r2_score(labels, mean_preds)\n",
        "        print(score)\n",
        "    return mean_preds"
      ]
    },
    {
      "cell_type": "code",
      "execution_count": null,
      "metadata": {
        "id": "ohxAR-5dPi1X"
      },
      "outputs": [],
      "source": [
        "train_comments = pd.read_csv(\"train_comments.csv\")\n",
        "train_issues = pd.read_csv(\"train_issues.csv\")\n",
        "employees = pd.read_csv(\"employees.csv\")\n",
        "\n",
        "test_comments = pd.read_csv(\"test_comments.csv\")\n",
        "test_issues = pd.read_csv(\"test_issues.csv\")\n",
        "\n",
        "train_issues = process_df(train_issues, train_comments)\n",
        "test_issues = process_df(test_issues, test_comments)\n",
        "\n",
        "train, test = train_test_split(train_issues, test_size=0.1, random_state=42)\n",
        "\n",
        "text_features = [\"summary\"]\n",
        "text_features += [\"position\", \"position_creator\"]\n",
        "cat_features = [\"key_first_part\"]\n",
        "cat_features += [\"english_level\", \"english_level_creator\",\n",
        "                \"hiring_type\", \"hiring_type_creator\", \"payment_type\", \"payment_type_creator\",\n",
        "                \"salary_calculation_type\", \"salary_calculation_type_creator\"]\n",
        "\n",
        "whole_dataset = Pool(\n",
        "    data=train_issues[[c for c in train_issues.columns if c != \"overall_worklogs\"]],\n",
        "    label=train_issues[\"overall_worklogs\"],\n",
        "    text_features=text_features,\n",
        "    cat_features=cat_features\n",
        ")\n",
        "\n",
        "train_dataset = Pool(\n",
        "    data=train[[c for c in train.columns if c != \"overall_worklogs\"]],\n",
        "    label=train[\"overall_worklogs\"],\n",
        "    text_features=text_features,\n",
        "    cat_features=cat_features\n",
        ")\n",
        "\n",
        "test_dataset = Pool(\n",
        "    data=test[[c for c in test.columns if c != \"overall_worklogs\"]],\n",
        "    label=test[\"overall_worklogs\"],\n",
        "    text_features=text_features,\n",
        "    cat_features=cat_features\n",
        ")"
      ]
    },
    {
      "cell_type": "code",
      "execution_count": null,
      "metadata": {
        "colab": {
          "base_uri": "https://localhost:8080/"
        },
        "id": "ccWyzxcobNTb",
        "outputId": "fab2da1f-c343-479b-d47d-85d859ac664e"
      },
      "outputs": [
        {
          "name": "stdout",
          "output_type": "stream",
          "text": [
            "Training on fold [0/3]\n",
            "\n",
            "bestTest = 53530.0879\n",
            "bestIteration = 99\n",
            "\n",
            "Training on fold [1/3]\n",
            "\n",
            "bestTest = 51518.98322\n",
            "bestIteration = 42\n",
            "\n",
            "Training on fold [2/3]\n",
            "\n",
            "bestTest = 133818.8445\n",
            "bestIteration = 99\n",
            "\n",
            "0.00044275630757173445\n"
          ]
        }
      ],
      "source": [
        "params = {\"iterations\": 100,\n",
        "          \"depth\": 2,\n",
        "          \"loss_function\": \"RMSE\",\n",
        "          \"verbose\": False,\n",
        "          }\n",
        "\n",
        "scores, models = cv(\n",
        "    train_dataset,\n",
        "    params,\n",
        "    fold_count=3,\n",
        "    return_models=True)\n",
        "\n",
        "preds = predict(test_dataset, test[\"overall_worklogs\"])"
      ]
    },
    {
      "cell_type": "code",
      "execution_count": null,
      "metadata": {
        "colab": {
          "base_uri": "https://localhost:8080/"
        },
        "id": "jTHKx7eeoBEA",
        "outputId": "79ca8a9f-66fe-413a-d486-d471c7004ffd"
      },
      "outputs": [
        {
          "name": "stdout",
          "output_type": "stream",
          "text": [
            "Training on fold [0/3]\n",
            "\n",
            "bestTest = 53483.20152\n",
            "bestIteration = 103\n",
            "\n",
            "Training on fold [1/3]\n",
            "\n",
            "bestTest = 51518.98322\n",
            "bestIteration = 42\n",
            "\n",
            "Training on fold [2/3]\n",
            "\n",
            "bestTest = 127988.6989\n",
            "bestIteration = 342\n",
            "\n",
            "0.006226069265458656\n"
          ]
        }
      ],
      "source": [
        "params = {\"iterations\": 1000,\n",
        "          \"depth\": 2,\n",
        "          \"loss_function\": \"RMSE\",\n",
        "          \"verbose\": False,\n",
        "          \"early_stopping_rounds\": 20,\n",
        "          }\n",
        "\n",
        "scores, models = cv(\n",
        "    train_dataset,\n",
        "    params,\n",
        "    fold_count=3,\n",
        "    return_models=True)\n",
        "\n",
        "preds = predict(test_dataset, test[\"overall_worklogs\"])"
      ]
    },
    {
      "cell_type": "code",
      "execution_count": null,
      "metadata": {
        "colab": {
          "base_uri": "https://localhost:8080/"
        },
        "id": "Dc_D4zgvo240",
        "outputId": "be44e497-49bc-4098-dfec-a71eb9d50dd5"
      },
      "outputs": [
        {
          "name": "stdout",
          "output_type": "stream",
          "text": [
            "Training on fold [0/3]\n",
            "\n",
            "bestTest = 49678.06325\n",
            "bestIteration = 311\n",
            "\n",
            "Training on fold [1/3]\n",
            "\n",
            "bestTest = 45881.68894\n",
            "bestIteration = 96\n",
            "\n",
            "Training on fold [2/3]\n"
          ]
        }
      ],
      "source": [
        "params = {\"iterations\": 2000,\n",
        "          \"depth\": 8,\n",
        "          \"loss_function\": \"RMSE\",\n",
        "          \"verbose\": False,\n",
        "          \"early_stopping_rounds\": 20,\n",
        "          }\n",
        "\n",
        "scores, models = cv(\n",
        "    train_dataset,\n",
        "    params,\n",
        "    fold_count=3,\n",
        "    return_models=True)\n",
        "\n",
        "preds = predict(test_dataset, test[\"overall_worklogs\"])"
      ]
    },
    {
      "cell_type": "code",
      "execution_count": null,
      "metadata": {
        "colab": {
          "background_save": true
        },
        "id": "Multgg_vpTlA",
        "outputId": "903d6303-e01a-46fa-b1da-6ba906ed016c"
      },
      "outputs": [
        {
          "name": "stdout",
          "output_type": "stream",
          "text": [
            "Training on fold [0/3]\n",
            "\n",
            "bestTest = 78421.25346\n",
            "bestIteration = 491\n",
            "\n",
            "Training on fold [1/3]\n",
            "\n",
            "bestTest = 132171.5992\n",
            "bestIteration = 21\n",
            "\n",
            "Training on fold [2/3]\n",
            "\n",
            "bestTest = 53581.47481\n",
            "bestIteration = 72\n",
            "\n",
            "0.2899170008098896\n"
          ]
        }
      ],
      "source": [
        "params = {\"iterations\": 2000,\n",
        "          \"depth\": 8,\n",
        "          \"loss_function\": \"RMSE\",\n",
        "          \"verbose\": False,\n",
        "          \"early_stopping_rounds\": 20,\n",
        "          }\n",
        "\n",
        "scores, models = cv(\n",
        "    whole_dataset,\n",
        "    params,\n",
        "    fold_count=3,\n",
        "    return_models=True)\n",
        "\n",
        "preds = predict(test_dataset, test[\"overall_worklogs\"])"
      ]
    },
    {
      "cell_type": "code",
      "execution_count": null,
      "metadata": {
        "colab": {
          "background_save": true,
          "base_uri": "https://localhost:8080/",
          "height": 365
        },
        "id": "i0haoVIDqfid",
        "outputId": "6b4486c5-d483-45bd-bc67-d6b440a967ad"
      },
      "outputs": [
        {
          "ename": "CatBoostError",
          "evalue": "ignored",
          "output_type": "error",
          "traceback": [
            "\u001b[0;31m---------------------------------------------------------------------------\u001b[0m",
            "\u001b[0;31mTypeError\u001b[0m                                 Traceback (most recent call last)",
            "\u001b[0;32m_catboost.pyx\u001b[0m in \u001b[0;36m_catboost.get_float_feature\u001b[0;34m()\u001b[0m\n",
            "\u001b[0;32m_catboost.pyx\u001b[0m in \u001b[0;36m_catboost._FloatOrNan\u001b[0;34m()\u001b[0m\n",
            "\u001b[0;32m_catboost.pyx\u001b[0m in \u001b[0;36m_catboost._FloatOrNanFromString\u001b[0;34m()\u001b[0m\n",
            "\u001b[0;31mTypeError\u001b[0m: Cannot convert 'b'DevOps \\xd0\\xb8\\xd0\\xbd\\xd0\\xb6\\xd0\\xb5\\xd0\\xbd\\xd0\\xb5\\xd1\\x80'' to float",
            "\nDuring handling of the above exception, another exception occurred:\n",
            "\u001b[0;31mCatBoostError\u001b[0m                             Traceback (most recent call last)",
            "\u001b[0;32m<ipython-input-29-597e63373cb0>\u001b[0m in \u001b[0;36m<module>\u001b[0;34m\u001b[0m\n\u001b[1;32m      2\u001b[0m     \u001b[0mdata\u001b[0m\u001b[0;34m=\u001b[0m\u001b[0mtest_issues\u001b[0m\u001b[0;34m,\u001b[0m\u001b[0;34m\u001b[0m\u001b[0;34m\u001b[0m\u001b[0m\n\u001b[1;32m      3\u001b[0m     \u001b[0mtext_features\u001b[0m\u001b[0;34m=\u001b[0m\u001b[0;34m[\u001b[0m\u001b[0;34m\"summary\"\u001b[0m\u001b[0;34m]\u001b[0m\u001b[0;34m,\u001b[0m\u001b[0;34m\u001b[0m\u001b[0;34m\u001b[0m\u001b[0m\n\u001b[0;32m----> 4\u001b[0;31m     \u001b[0mcat_features\u001b[0m\u001b[0;34m=\u001b[0m\u001b[0;34m[\u001b[0m\u001b[0;34m\"key_first_part\"\u001b[0m\u001b[0;34m]\u001b[0m\u001b[0;34m\u001b[0m\u001b[0;34m\u001b[0m\u001b[0m\n\u001b[0m\u001b[1;32m      5\u001b[0m )\n",
            "\u001b[0;32m/usr/local/lib/python3.7/dist-packages/catboost/core.py\u001b[0m in \u001b[0;36m__init__\u001b[0;34m(self, data, label, cat_features, text_features, embedding_features, embedding_features_data, column_description, pairs, delimiter, has_header, ignore_csv_quoting, weight, group_id, group_weight, subgroup_id, pairs_weight, baseline, timestamp, feature_names, feature_tags, thread_count, log_cout, log_cerr)\u001b[0m\n\u001b[1;32m    791\u001b[0m \u001b[0;34m\u001b[0m\u001b[0m\n\u001b[1;32m    792\u001b[0m                 self._init(data, label, cat_features, text_features, embedding_features, embedding_features_data, pairs, weight,\n\u001b[0;32m--> 793\u001b[0;31m                            group_id, group_weight, subgroup_id, pairs_weight, baseline, timestamp, feature_names, feature_tags, thread_count)\n\u001b[0m\u001b[1;32m    794\u001b[0m         \u001b[0msuper\u001b[0m\u001b[0;34m(\u001b[0m\u001b[0mPool\u001b[0m\u001b[0;34m,\u001b[0m \u001b[0mself\u001b[0m\u001b[0;34m)\u001b[0m\u001b[0;34m.\u001b[0m\u001b[0m__init__\u001b[0m\u001b[0;34m(\u001b[0m\u001b[0;34m)\u001b[0m\u001b[0;34m\u001b[0m\u001b[0;34m\u001b[0m\u001b[0m\n\u001b[1;32m    795\u001b[0m \u001b[0;34m\u001b[0m\u001b[0m\n",
            "\u001b[0;32m/usr/local/lib/python3.7/dist-packages/catboost/core.py\u001b[0m in \u001b[0;36m_init\u001b[0;34m(self, data, label, cat_features, text_features, embedding_features, embedding_features_data, pairs, weight, group_id, group_weight, subgroup_id, pairs_weight, baseline, timestamp, feature_names, feature_tags, thread_count)\u001b[0m\n\u001b[1;32m   1418\u001b[0m             \u001b[0mfeature_tags\u001b[0m \u001b[0;34m=\u001b[0m \u001b[0mself\u001b[0m\u001b[0;34m.\u001b[0m\u001b[0m_check_transform_tags\u001b[0m\u001b[0;34m(\u001b[0m\u001b[0mfeature_tags\u001b[0m\u001b[0;34m,\u001b[0m \u001b[0mfeature_names\u001b[0m\u001b[0;34m)\u001b[0m\u001b[0;34m\u001b[0m\u001b[0;34m\u001b[0m\u001b[0m\n\u001b[1;32m   1419\u001b[0m         self._init_pool(data, label, cat_features, text_features, embedding_features, embedding_features_data, pairs, weight,\n\u001b[0;32m-> 1420\u001b[0;31m                         group_id, group_weight, subgroup_id, pairs_weight, baseline, timestamp, feature_names, feature_tags, thread_count)\n\u001b[0m\u001b[1;32m   1421\u001b[0m \u001b[0;34m\u001b[0m\u001b[0m\n\u001b[1;32m   1422\u001b[0m \u001b[0;34m\u001b[0m\u001b[0m\n",
            "\u001b[0;32m_catboost.pyx\u001b[0m in \u001b[0;36m_catboost._PoolBase._init_pool\u001b[0;34m()\u001b[0m\n",
            "\u001b[0;32m_catboost.pyx\u001b[0m in \u001b[0;36m_catboost._PoolBase._init_pool\u001b[0;34m()\u001b[0m\n",
            "\u001b[0;32m_catboost.pyx\u001b[0m in \u001b[0;36m_catboost._PoolBase._init_features_order_layout_pool\u001b[0;34m()\u001b[0m\n",
            "\u001b[0;32m_catboost.pyx\u001b[0m in \u001b[0;36m_catboost._set_features_order_data_pd_data_frame\u001b[0;34m()\u001b[0m\n",
            "\u001b[0;32m_catboost.pyx\u001b[0m in \u001b[0;36m_catboost.create_num_factor_data\u001b[0;34m()\u001b[0m\n",
            "\u001b[0;32m_catboost.pyx\u001b[0m in \u001b[0;36m_catboost.get_float_feature\u001b[0;34m()\u001b[0m\n",
            "\u001b[0;31mCatBoostError\u001b[0m: Bad value for num_feature[non_default_doc_idx=0,feature_idx=14]=\"DevOps инженер\": Cannot convert 'b'DevOps \\xd0\\xb8\\xd0\\xbd\\xd0\\xb6\\xd0\\xb5\\xd0\\xbd\\xd0\\xb5\\xd1\\x80'' to float"
          ]
        }
      ],
      "source": [
        "test_dataset = Pool(\n",
        "    data=test_issues,\n",
        "    text_features=[\"summary\"],\n",
        "    cat_features=[\"key_first_part\"]\n",
        ")"
      ]
    },
    {
      "cell_type": "code",
      "execution_count": null,
      "metadata": {
        "colab": {
          "background_save": true
        },
        "id": "BkkrmRr_qZ9I"
      },
      "outputs": [],
      "source": [
        "preds = []\n",
        "for model in models:\n",
        "    pred = model.predict(test_issues)\n",
        "    preds.append(pred)"
      ]
    },
    {
      "cell_type": "code",
      "execution_count": null,
      "metadata": {
        "colab": {
          "background_save": true
        },
        "id": "l-427fU6rIRo"
      },
      "outputs": [],
      "source": [
        "preds[0].shape"
      ]
    },
    {
      "cell_type": "code",
      "execution_count": null,
      "metadata": {
        "colab": {
          "background_save": true
        },
        "id": "WZtdhOs4q2Nr"
      },
      "outputs": [],
      "source": [
        "mean_preds = np.array(preds).mean(axis=0)"
      ]
    },
    {
      "cell_type": "code",
      "execution_count": null,
      "metadata": {
        "colab": {
          "background_save": true
        },
        "id": "toKqSXJhrOul"
      },
      "outputs": [],
      "source": [
        "solution = pd.read_csv(\"sample_solution.csv\")\n",
        "solution"
      ]
    },
    {
      "cell_type": "code",
      "execution_count": null,
      "metadata": {
        "id": "IdvuWI3IroVM"
      },
      "outputs": [],
      "source": [
        "solution[\"overall_worklogs\"] = mean_preds"
      ]
    },
    {
      "cell_type": "code",
      "execution_count": null,
      "metadata": {
        "colab": {
          "base_uri": "https://localhost:8080/",
          "height": 424
        },
        "id": "lbfcZEkQrsca",
        "outputId": "ff733734-d7d6-4323-8825-0aa92c7a308e"
      },
      "outputs": [
        {
          "data": {
            "text/html": [
              "\n",
              "  <div id=\"df-b1940473-d53b-471d-aa1e-9c1b11f786cc\">\n",
              "    <div class=\"colab-df-container\">\n",
              "      <div>\n",
              "<style scoped>\n",
              "    .dataframe tbody tr th:only-of-type {\n",
              "        vertical-align: middle;\n",
              "    }\n",
              "\n",
              "    .dataframe tbody tr th {\n",
              "        vertical-align: top;\n",
              "    }\n",
              "\n",
              "    .dataframe thead th {\n",
              "        text-align: right;\n",
              "    }\n",
              "</style>\n",
              "<table border=\"1\" class=\"dataframe\">\n",
              "  <thead>\n",
              "    <tr style=\"text-align: right;\">\n",
              "      <th></th>\n",
              "      <th>id</th>\n",
              "      <th>overall_worklogs</th>\n",
              "    </tr>\n",
              "  </thead>\n",
              "  <tbody>\n",
              "    <tr>\n",
              "      <th>0</th>\n",
              "      <td>675975</td>\n",
              "      <td>15688.120388</td>\n",
              "    </tr>\n",
              "    <tr>\n",
              "      <th>1</th>\n",
              "      <td>675972</td>\n",
              "      <td>13080.313544</td>\n",
              "    </tr>\n",
              "    <tr>\n",
              "      <th>2</th>\n",
              "      <td>675965</td>\n",
              "      <td>13654.941526</td>\n",
              "    </tr>\n",
              "    <tr>\n",
              "      <th>3</th>\n",
              "      <td>675961</td>\n",
              "      <td>11840.731011</td>\n",
              "    </tr>\n",
              "    <tr>\n",
              "      <th>4</th>\n",
              "      <td>675955</td>\n",
              "      <td>15208.335575</td>\n",
              "    </tr>\n",
              "    <tr>\n",
              "      <th>...</th>\n",
              "      <td>...</td>\n",
              "      <td>...</td>\n",
              "    </tr>\n",
              "    <tr>\n",
              "      <th>1065</th>\n",
              "      <td>702545</td>\n",
              "      <td>13326.166968</td>\n",
              "    </tr>\n",
              "    <tr>\n",
              "      <th>1066</th>\n",
              "      <td>702528</td>\n",
              "      <td>14724.047565</td>\n",
              "    </tr>\n",
              "    <tr>\n",
              "      <th>1067</th>\n",
              "      <td>702499</td>\n",
              "      <td>15344.223859</td>\n",
              "    </tr>\n",
              "    <tr>\n",
              "      <th>1068</th>\n",
              "      <td>702376</td>\n",
              "      <td>15831.302260</td>\n",
              "    </tr>\n",
              "    <tr>\n",
              "      <th>1069</th>\n",
              "      <td>670929</td>\n",
              "      <td>18699.852895</td>\n",
              "    </tr>\n",
              "  </tbody>\n",
              "</table>\n",
              "<p>1070 rows × 2 columns</p>\n",
              "</div>\n",
              "      <button class=\"colab-df-convert\" onclick=\"convertToInteractive('df-b1940473-d53b-471d-aa1e-9c1b11f786cc')\"\n",
              "              title=\"Convert this dataframe to an interactive table.\"\n",
              "              style=\"display:none;\">\n",
              "        \n",
              "  <svg xmlns=\"http://www.w3.org/2000/svg\" height=\"24px\"viewBox=\"0 0 24 24\"\n",
              "       width=\"24px\">\n",
              "    <path d=\"M0 0h24v24H0V0z\" fill=\"none\"/>\n",
              "    <path d=\"M18.56 5.44l.94 2.06.94-2.06 2.06-.94-2.06-.94-.94-2.06-.94 2.06-2.06.94zm-11 1L8.5 8.5l.94-2.06 2.06-.94-2.06-.94L8.5 2.5l-.94 2.06-2.06.94zm10 10l.94 2.06.94-2.06 2.06-.94-2.06-.94-.94-2.06-.94 2.06-2.06.94z\"/><path d=\"M17.41 7.96l-1.37-1.37c-.4-.4-.92-.59-1.43-.59-.52 0-1.04.2-1.43.59L10.3 9.45l-7.72 7.72c-.78.78-.78 2.05 0 2.83L4 21.41c.39.39.9.59 1.41.59.51 0 1.02-.2 1.41-.59l7.78-7.78 2.81-2.81c.8-.78.8-2.07 0-2.86zM5.41 20L4 18.59l7.72-7.72 1.47 1.35L5.41 20z\"/>\n",
              "  </svg>\n",
              "      </button>\n",
              "      \n",
              "  <style>\n",
              "    .colab-df-container {\n",
              "      display:flex;\n",
              "      flex-wrap:wrap;\n",
              "      gap: 12px;\n",
              "    }\n",
              "\n",
              "    .colab-df-convert {\n",
              "      background-color: #E8F0FE;\n",
              "      border: none;\n",
              "      border-radius: 50%;\n",
              "      cursor: pointer;\n",
              "      display: none;\n",
              "      fill: #1967D2;\n",
              "      height: 32px;\n",
              "      padding: 0 0 0 0;\n",
              "      width: 32px;\n",
              "    }\n",
              "\n",
              "    .colab-df-convert:hover {\n",
              "      background-color: #E2EBFA;\n",
              "      box-shadow: 0px 1px 2px rgba(60, 64, 67, 0.3), 0px 1px 3px 1px rgba(60, 64, 67, 0.15);\n",
              "      fill: #174EA6;\n",
              "    }\n",
              "\n",
              "    [theme=dark] .colab-df-convert {\n",
              "      background-color: #3B4455;\n",
              "      fill: #D2E3FC;\n",
              "    }\n",
              "\n",
              "    [theme=dark] .colab-df-convert:hover {\n",
              "      background-color: #434B5C;\n",
              "      box-shadow: 0px 1px 3px 1px rgba(0, 0, 0, 0.15);\n",
              "      filter: drop-shadow(0px 1px 2px rgba(0, 0, 0, 0.3));\n",
              "      fill: #FFFFFF;\n",
              "    }\n",
              "  </style>\n",
              "\n",
              "      <script>\n",
              "        const buttonEl =\n",
              "          document.querySelector('#df-b1940473-d53b-471d-aa1e-9c1b11f786cc button.colab-df-convert');\n",
              "        buttonEl.style.display =\n",
              "          google.colab.kernel.accessAllowed ? 'block' : 'none';\n",
              "\n",
              "        async function convertToInteractive(key) {\n",
              "          const element = document.querySelector('#df-b1940473-d53b-471d-aa1e-9c1b11f786cc');\n",
              "          const dataTable =\n",
              "            await google.colab.kernel.invokeFunction('convertToInteractive',\n",
              "                                                     [key], {});\n",
              "          if (!dataTable) return;\n",
              "\n",
              "          const docLinkHtml = 'Like what you see? Visit the ' +\n",
              "            '<a target=\"_blank\" href=https://colab.research.google.com/notebooks/data_table.ipynb>data table notebook</a>'\n",
              "            + ' to learn more about interactive tables.';\n",
              "          element.innerHTML = '';\n",
              "          dataTable['output_type'] = 'display_data';\n",
              "          await google.colab.output.renderOutput(dataTable, element);\n",
              "          const docLink = document.createElement('div');\n",
              "          docLink.innerHTML = docLinkHtml;\n",
              "          element.appendChild(docLink);\n",
              "        }\n",
              "      </script>\n",
              "    </div>\n",
              "  </div>\n",
              "  "
            ],
            "text/plain": [
              "          id  overall_worklogs\n",
              "0     675975      15688.120388\n",
              "1     675972      13080.313544\n",
              "2     675965      13654.941526\n",
              "3     675961      11840.731011\n",
              "4     675955      15208.335575\n",
              "...      ...               ...\n",
              "1065  702545      13326.166968\n",
              "1066  702528      14724.047565\n",
              "1067  702499      15344.223859\n",
              "1068  702376      15831.302260\n",
              "1069  670929      18699.852895\n",
              "\n",
              "[1070 rows x 2 columns]"
            ]
          },
          "execution_count": 73,
          "metadata": {},
          "output_type": "execute_result"
        }
      ],
      "source": [
        "solution"
      ]
    },
    {
      "cell_type": "code",
      "execution_count": null,
      "metadata": {
        "id": "zMGkNjeIrtU4"
      },
      "outputs": [],
      "source": [
        "solution.to_csv(\"solution.csv\", index=None)"
      ]
    }
  ],
  "metadata": {
    "colab": {
      "collapsed_sections": [],
      "provenance": []
    },
    "kernelspec": {
      "display_name": "Python 3",
      "name": "python3"
    },
    "language_info": {
      "name": "python"
    }
  },
  "nbformat": 4,
  "nbformat_minor": 0
}